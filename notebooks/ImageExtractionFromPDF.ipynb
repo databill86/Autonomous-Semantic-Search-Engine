{
 "cells": [
  {
   "cell_type": "code",
   "execution_count": 16,
   "metadata": {},
   "outputs": [],
   "source": [
    "input_pdf = \"/Users/d062334/Downloads/Vodafone-India-Idea-Presentation.pdf\""
   ]
  },
  {
   "cell_type": "code",
   "execution_count": 17,
   "metadata": {},
   "outputs": [
    {
     "name": "stdout",
     "output_type": "stream",
     "text": [
      "JPG 0 from 35017 to 1389206\n",
      "JPG 1 from 1417868 to 1424961\n",
      "JPG 2 from 1425501 to 1433060\n",
      "JPG 3 from 1456092 to 1465638\n",
      "JPG 4 from 1467653 to 1512437\n",
      "JPG 5 from 1512614 to 1528987\n",
      "JPG 6 from 1529167 to 1549754\n",
      "JPG 7 from 1549932 to 1583289\n",
      "JPG 8 from 1583469 to 1610143\n",
      "JPG 9 from 1650952 to 1657739\n",
      "JPG 10 from 1659420 to 1663624\n",
      "JPG 11 from 2097471 to 2098828\n",
      "JPG 12 from 2110490 to 2111898\n",
      "JPG 13 from 2170129 to 2171816\n",
      "JPG 14 from 2179806 to 2182080\n",
      "JPG 15 from 2204328 to 2206602\n",
      "JPG 16 from 2207026 to 2209127\n",
      "JPG 17 from 2217249 to 2219166\n",
      "JPG 18 from 2246814 to 2277015\n",
      "JPG 19 from 2283071 to 2331911\n",
      "JPG 20 from 2649389 to 2650785\n",
      "JPG 21 from 2656156 to 2657583\n"
     ]
    }
   ],
   "source": [
    "import sys\n",
    "\n",
    "pdf = open(input_pdf, \"rb\").read()\n",
    "\n",
    "startmark = b\"\\xff\\xd8\"\n",
    "startfix = 0\n",
    "endmark = b\"\\xff\\xd9\"\n",
    "endfix = 2\n",
    "i = 0\n",
    "\n",
    "njpg = 0\n",
    "while True:\n",
    "    istream = pdf.find(b\"stream\", i)\n",
    "    if istream < 0:\n",
    "        break\n",
    "    istart = pdf.find(startmark, istream, istream+20)\n",
    "    if istart < 0:\n",
    "        i = istream+20\n",
    "        continue\n",
    "    iend = pdf.find(b\"endstream\", istart)\n",
    "    if iend < 0:\n",
    "        raise Exception(\"Didn't find end of stream!\")\n",
    "    iend = pdf.find(endmark, iend-20)\n",
    "    if iend < 0:\n",
    "        raise Exception(\"Didn't find end of JPG!\")\n",
    "     \n",
    "    istart += startfix\n",
    "    iend += endfix\n",
    "    print(\"JPG %d from %d to %d\" % (njpg, istart, iend))\n",
    "    jpg = pdf[istart:iend]\n",
    "    jpgfile = open(\"jpg%d.jpg\" % njpg, \"wb\")\n",
    "    jpgfile.write(jpg)\n",
    "    jpgfile.close()\n",
    "     \n",
    "    njpg += 1\n",
    "    i = iend"
   ]
  },
  {
   "cell_type": "code",
   "execution_count": 37,
   "metadata": {},
   "outputs": [],
   "source": [
    "import PyPDF2\n",
    "from wand.image import Image\n",
    "import io\n",
    "import os\n",
    "\n",
    "def pdf_page_to_png(src_filename, pagenum = 0, resolution = 72,):\n",
    "    \"\"\"\n",
    "    Returns specified PDF page as wand.image.Image png.\n",
    "    :param PyPDF2.PdfFileReader src_pdf: PDF from which to take pages.\n",
    "    :param int pagenum: Page number to take.\n",
    "    :param int resolution: Resolution for resulting png in DPI.\n",
    "    \"\"\"\n",
    "    src_pdf = PyPDF2.PdfFileReader(open(src_filename, \"rb\"))\n",
    "    dst_pdf = PyPDF2.PdfFileWriter()\n",
    "    dst_pdf.addPage(src_pdf.getPage(pagenum))\n",
    "\n",
    "    pdf_bytes = io.BytesIO()\n",
    "    dst_pdf.write(pdf_bytes)\n",
    "    pdf_bytes.seek(0)\n",
    "\n",
    "    img = Image(file = pdf_bytes, resolution = resolution)\n",
    "    img.convert(\"png\")\n",
    "    \n",
    "    img.save(filename = src_filename + \"_thumb.png\")"
   ]
  },
  {
   "cell_type": "code",
   "execution_count": 38,
   "metadata": {},
   "outputs": [],
   "source": [
    "pdf_page_to_png(input_pdf)"
   ]
  }
 ],
 "metadata": {
  "kernelspec": {
   "display_name": "Python 3",
   "language": "python",
   "name": "python3"
  },
  "language_info": {
   "codemirror_mode": {
    "name": "ipython",
    "version": 3
   },
   "file_extension": ".py",
   "mimetype": "text/x-python",
   "name": "python",
   "nbconvert_exporter": "python",
   "pygments_lexer": "ipython3",
   "version": "3.6.3"
  }
 },
 "nbformat": 4,
 "nbformat_minor": 2
}
