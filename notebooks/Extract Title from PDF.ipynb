{
 "cells": [
  {
   "cell_type": "code",
   "execution_count": 20,
   "metadata": {},
   "outputs": [],
   "source": [
    "input_pdf = \"/Users/d062334/Downloads/Vodafone-India-Idea-Presentation.pdf\"\n",
    "input_pdf = \"/Users/d062334/Downloads/20050421-smoothing-tutorial.pdf\""
   ]
  },
  {
   "cell_type": "code",
   "execution_count": 21,
   "metadata": {},
   "outputs": [
    {
     "name": "stdout",
     "output_type": "stream",
     "text": [
      "NLP Lunch Tutorial: Smoothing \n"
     ]
    }
   ],
   "source": [
    "from pdfminer.pdfparser import PDFParser\n",
    "from pdfminer.pdfdocument import PDFDocument\n",
    "from pdfminer.pdfpage import PDFPage\n",
    "from pdfminer.pdfinterp import PDFResourceManager\n",
    "from pdfminer.pdfinterp import PDFPageInterpreter\n",
    "from pdfminer.layout import LAParams\n",
    "from pdfminer.converter import PDFPageAggregator\n",
    "import pdfminer\n",
    "import math\n",
    "\n",
    "\n",
    "def createPDFDoc(fpath):\n",
    "    fp = open(fpath, 'rb')\n",
    "    parser = PDFParser(fp)\n",
    "    document = PDFDocument(parser, password='')\n",
    "    if not document.is_extractable:\n",
    "        raise \"Not extractable\"\n",
    "    else:\n",
    "        return document\n",
    "\n",
    "\n",
    "def createDeviceInterpreter():\n",
    "    rsrcmgr = PDFResourceManager()\n",
    "    laparams = LAParams()\n",
    "    device = PDFPageAggregator(rsrcmgr, laparams=laparams)\n",
    "    interpreter = PDFPageInterpreter(rsrcmgr, device)\n",
    "    return device, interpreter\n",
    "\n",
    "\n",
    "def parse_obj(objs):\n",
    "    string_fontsize = []\n",
    "    for obj in objs:\n",
    "        if isinstance(obj, pdfminer.layout.LTTextBox):\n",
    "            for o in obj._objs:\n",
    "                if isinstance(o,pdfminer.layout.LTTextLine):\n",
    "                    text=o.get_text()\n",
    "                    if text.strip():\n",
    "                        old_size = 0\n",
    "                        string = \"\"\n",
    "                        for c in  o._objs:\n",
    "                            try:\n",
    "                                string += c._text\n",
    "                                old_size = c.size\n",
    "                            except:\n",
    "                                pass\n",
    "                            if isinstance(c, pdfminer.layout.LTChar):\n",
    "                                pass\n",
    "                        string_fontsize.append({\"string\":string, \"size\":old_size})\n",
    "        elif isinstance(obj, pdfminer.layout.LTFigure):\n",
    "            parse_obj(obj._objs)\n",
    "        else:\n",
    "            pass\n",
    "    i = 0\n",
    "    while i < len(string_fontsize):\n",
    "        if i != 0 and math.floor(string_fontsize[i-1][\"size\"]) == math.floor(string_fontsize[i][\"size\"]):\n",
    "            string_fontsize[i-1][\"string\"] += string_fontsize[i][\"string\"]\n",
    "            del string_fontsize[i]\n",
    "            i -= 1\n",
    "        i+=1\n",
    "        \n",
    "    return string_fontsize\n",
    "\n",
    "document=createPDFDoc(input_pdf)\n",
    "device,interpreter=createDeviceInterpreter()\n",
    "pages=PDFPage.create_pages(document)\n",
    "interpreter.process_page(next(pages))\n",
    "layout = device.get_result()\n",
    "string_fontsize = parse_obj(layout._objs)\n",
    "title_index = max(range(len(string_fontsize)), key=lambda index: string_fontsize[index]['size'])\n",
    "title = string_fontsize[title_index][\"string\"].replace(\"\\n\", \" \")\n",
    "print(title)"
   ]
  },
  {
   "cell_type": "code",
   "execution_count": 26,
   "metadata": {},
   "outputs": [
    {
     "name": "stdout",
     "output_type": "stream",
     "text": [
      "None\n"
     ]
    }
   ],
   "source": [
    "from pdfrw import PdfReader\n",
    "title = PdfReader(input_pdf).Info.Title\n",
    "if title != None: title = title.strip(\"()\").strip()\n",
    "if title == \"\": title = None\n",
    "print(title)"
   ]
  }
 ],
 "metadata": {
  "kernelspec": {
   "display_name": "Python 3",
   "language": "python",
   "name": "python3"
  },
  "language_info": {
   "codemirror_mode": {
    "name": "ipython",
    "version": 3
   },
   "file_extension": ".py",
   "mimetype": "text/x-python",
   "name": "python",
   "nbconvert_exporter": "python",
   "pygments_lexer": "ipython3",
   "version": "3.6.3"
  }
 },
 "nbformat": 4,
 "nbformat_minor": 2
}
